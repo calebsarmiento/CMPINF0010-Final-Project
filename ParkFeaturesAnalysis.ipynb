{
 "cells": [
  {
   "cell_type": "markdown",
   "metadata": {},
   "source": [
    "# Measuring Park Capacity"
   ]
  },
  {
   "cell_type": "markdown",
   "metadata": {},
   "source": [
    "---\n",
    "## Getting the data\n",
    "First, the data is imported, read, and previewed. Unnecessary data will be stripped and any NaN values will be disregarded later on."
   ]
  },
  {
   "cell_type": "code",
   "execution_count": 1,
   "metadata": {},
   "outputs": [
    {
     "data": {
      "text/html": [
       "<div>\n",
       "<style scoped>\n",
       "    .dataframe tbody tr th:only-of-type {\n",
       "        vertical-align: middle;\n",
       "    }\n",
       "\n",
       "    .dataframe tbody tr th {\n",
       "        vertical-align: top;\n",
       "    }\n",
       "\n",
       "    .dataframe thead th {\n",
       "        text-align: right;\n",
       "    }\n",
       "</style>\n",
       "<table border=\"1\" class=\"dataframe\">\n",
       "  <thead>\n",
       "    <tr style=\"text-align: right;\">\n",
       "      <th></th>\n",
       "      <th>center</th>\n",
       "      <th>feature_name</th>\n",
       "      <th>capacity</th>\n",
       "    </tr>\n",
       "  </thead>\n",
       "  <tbody>\n",
       "    <tr>\n",
       "      <th>378</th>\n",
       "      <td>Harrison Hills Park</td>\n",
       "      <td>Wake Robin Bathroom</td>\n",
       "      <td>NaN</td>\n",
       "    </tr>\n",
       "    <tr>\n",
       "      <th>206</th>\n",
       "      <td>South Park</td>\n",
       "      <td>Alabama</td>\n",
       "      <td>40.0</td>\n",
       "    </tr>\n",
       "    <tr>\n",
       "      <th>9</th>\n",
       "      <td>Boyce Park</td>\n",
       "      <td>Soccer Field 3</td>\n",
       "      <td>50.0</td>\n",
       "    </tr>\n",
       "    <tr>\n",
       "      <th>470</th>\n",
       "      <td>South Park</td>\n",
       "      <td>AED</td>\n",
       "      <td>NaN</td>\n",
       "    </tr>\n",
       "    <tr>\n",
       "      <th>263</th>\n",
       "      <td>White Oak Park</td>\n",
       "      <td>Cedar 2</td>\n",
       "      <td>42.0</td>\n",
       "    </tr>\n",
       "    <tr>\n",
       "      <th>248</th>\n",
       "      <td>South Park</td>\n",
       "      <td>Stone Manse</td>\n",
       "      <td>40.0</td>\n",
       "    </tr>\n",
       "    <tr>\n",
       "      <th>389</th>\n",
       "      <td>White Oak Park</td>\n",
       "      <td>Lower Dogwood Bathroom</td>\n",
       "      <td>NaN</td>\n",
       "    </tr>\n",
       "    <tr>\n",
       "      <th>337</th>\n",
       "      <td>White Oak Park</td>\n",
       "      <td>Cedar VolleyBall Court</td>\n",
       "      <td>NaN</td>\n",
       "    </tr>\n",
       "    <tr>\n",
       "      <th>450</th>\n",
       "      <td>South Park</td>\n",
       "      <td>Playground</td>\n",
       "      <td>NaN</td>\n",
       "    </tr>\n",
       "    <tr>\n",
       "      <th>138</th>\n",
       "      <td>North Park</td>\n",
       "      <td>Point</td>\n",
       "      <td>125.0</td>\n",
       "    </tr>\n",
       "  </tbody>\n",
       "</table>\n",
       "</div>"
      ],
      "text/plain": [
       "                  center            feature_name  capacity\n",
       "378  Harrison Hills Park     Wake Robin Bathroom       NaN\n",
       "206           South Park                 Alabama      40.0\n",
       "9             Boyce Park          Soccer Field 3      50.0\n",
       "470           South Park                     AED       NaN\n",
       "263       White Oak Park                 Cedar 2      42.0\n",
       "248           South Park             Stone Manse      40.0\n",
       "389       White Oak Park  Lower Dogwood Bathroom       NaN\n",
       "337       White Oak Park  Cedar VolleyBall Court       NaN\n",
       "450           South Park              Playground       NaN\n",
       "138           North Park                   Point     125.0"
      ]
     },
     "execution_count": 1,
     "metadata": {},
     "output_type": "execute_result"
    }
   ],
   "source": [
    "import pandas as pd\n",
    "import matplotlib.pyplot as plt\n",
    "\n",
    "df = pd.read_csv(\"park_features.csv\")\n",
    "df = df[[\"center\", \"feature_name\", \"capacity\"]]\n",
    "\n",
    "df.sample(10)"
   ]
  },
  {
   "cell_type": "markdown",
   "metadata": {},
   "source": [
    "Now, we have a dataframe of name 'df' that contains only the park name, feature name, and feature capacity. This stripped down the data from the original imported csv file to only what is necessary in analyzing the capacities for each park."
   ]
  },
  {
   "cell_type": "markdown",
   "metadata": {},
   "source": [
    "---\n",
    "### Analyzing the data\n",
    "Next, an empty string will be made to be filled with all unique parks. A for loop is used to go through each row of the dataframe and grab each park name that isn't already in the string."
   ]
  },
  {
   "cell_type": "code",
   "execution_count": 2,
   "metadata": {},
   "outputs": [],
   "source": [
    "all_parks = [] # Empty string to hold all unique parks.\n",
    "\n",
    "for row in range(len(df)): # For loop that appends park names if they are not in the list already.\n",
    "    if df.iloc[row,0] not in all_parks:\n",
    "        all_parks.append(df.iloc[row,0])"
   ]
  },
  {
   "cell_type": "markdown",
   "metadata": {},
   "source": [
    "Next, an empty dictionary will be made. This dictionary will contain each park name as a key with their value storing the total capacity of the park. The total capacity of any park is determined by adding up the individual capacities of each park feature that is listed in the dataframe."
   ]
  },
  {
   "cell_type": "code",
   "execution_count": 3,
   "metadata": {},
   "outputs": [],
   "source": [
    "park_capacities = {} # Creating dictionary to hold all parks, where the value is the capacity of the park.\n",
    "\n",
    "for park in all_parks: # Going through each park and adding the capacity of each unique feature.\n",
    "    for row in range(len(df)):\n",
    "        capacity = df.iloc[row,2]\n",
    "        if df.iloc[row,0] == park and capacity == float(capacity): # Skipping park feature capacities that are not in the float data type. This excludes all NaN.\n",
    "            if park in park_capacities: # Adding the key and value to the dictionary.\n",
    "                park_capacities[park] += capacity\n",
    "            else:\n",
    "                park_capacities[park] = capacity"
   ]
  },
  {
   "cell_type": "markdown",
   "metadata": {},
   "source": [
    "---\n",
    "### Looking at the results\n",
    "The dictionary can be printed out and the park with the highest capacity can be identified."
   ]
  },
  {
   "cell_type": "code",
   "execution_count": 4,
   "metadata": {},
   "outputs": [
    {
     "name": "stdout",
     "output_type": "stream",
     "text": [
      "Round Hill Park                580.0\n",
      "Deer Lakes Park                585.0\n",
      "White Oak Park                 1111.0\n",
      "Harrison Hills Park            1130.0\n",
      "Settler's Cabin Park           1140.0\n",
      "Boyce Park                     1515.0\n",
      "South Park                     4757.0\n",
      "North Park                     6577.0\n",
      "Hartwood Acres Park            10500.0\n"
     ]
    }
   ],
   "source": [
    "sorted_capacities = sorted(park_capacities.items(), key=lambda x:x[1])\n",
    "park_capacities = dict(sorted_capacities)\n",
    "for key in park_capacities:\n",
    "    print(\"{0:30} {1}\".format(key, park_capacities[key]))"
   ]
  },
  {
   "cell_type": "markdown",
   "metadata": {},
   "source": [
    "It's kind of hard to visualize the data in this format, so it will be plotted to get a better idea for how each park compares in capacity."
   ]
  },
  {
   "cell_type": "code",
   "execution_count": 21,
   "metadata": {},
   "outputs": [
    {
     "data": {
      "image/png": "[encoded data removed]",
      "text/plain": [
       "<Figure size 720x432 with 1 Axes>"
      ]
     },
     "metadata": {
      "needs_background": "light"
     },
     "output_type": "display_data"
    }
   ],
   "source": [
    "capacity = pd.DataFrame.from_dict(park_capacities, orient='index', columns=['Capacity']).sort_values(by='Capacity')\n",
    "# Making a new dataframe with only park names and capacities.\n",
    "\n",
    "capacity.plot(kind='bar', figsize =(10,6))\n",
    "plt.title('Park Capacities')\n",
    "plt.xticks(rotation=45, ha='right')\n",
    "plt.show()"
   ]
  },
  {
   "cell_type": "markdown",
   "metadata": {},
   "source": [
    "Looking at this bar graph, it is clear that Hartwood Acres Park has the highest capacity. Next, a way to score each park by their capacity is needed in order to utilize this as a sub-metric. This is done by giving a percentage for the park's capacity out of the park with the highest capacity, so Hartwood Acres Park would get a score of 100, being the best park in the submetric of capacity."
   ]
  },
  {
   "cell_type": "code",
   "execution_count": 30,
   "metadata": {},
   "outputs": [
    {
     "name": "stdout",
     "output_type": "stream",
     "text": [
      "Park Scores\n",
      "\n",
      "Round Hill Park                5.5\n",
      "Deer Lakes Park                5.6\n",
      "White Oak Park                 10.6\n",
      "Harrison Hills Park            10.8\n",
      "Settler's Cabin Park           10.9\n",
      "Boyce Park                     14.4\n",
      "South Park                     45.3\n",
      "North Park                     62.6\n",
      "Hartwood Acres Park            100.0\n"
     ]
    }
   ],
   "source": [
    "scores = {}\n",
    "for park in park_capacities:\n",
    "    scores[park] = round(((park_capacities[park]*100)/10500.0), 1)\n",
    "\n",
    "print(\"Park Scores\\n\")\n",
    "for i in scores:\n",
    "    print(\"{0:30} {1}\".format(i, scores[i]))"
   ]
  },
  {
   "cell_type": "markdown",
   "metadata": {},
   "source": [
    "Each park is now scored with points. The points for each park will be used in the final judging of the best neigborhood in Pittsburgh, which will be done by adding all the points of every park within **a 30 minute drive** of each neighborhood and seeing which neighborhood has the most points in the end."
   ]
  }
 ],
 "metadata": {
  "kernelspec": {
   "display_name": "Python 3",
   "language": "python",
   "name": "python3"
  },
  "language_info": {
   "codemirror_mode": {
    "name": "ipython",
    "version": 3
   },
   "file_extension": ".py",
   "mimetype": "text/x-python",
   "name": "python",
   "nbconvert_exporter": "python",
   "pygments_lexer": "ipython3",
   "version": "3.8.3"
  }
 },
 "nbformat": 4,
 "nbformat_minor": 4
}
