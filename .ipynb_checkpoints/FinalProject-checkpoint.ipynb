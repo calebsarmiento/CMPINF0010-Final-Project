{
 "cells": [
  {
   "cell_type": "markdown",
   "metadata": {},
   "source": [
    "# Introduction\n",
    "\n",
    "As we were deciding upon which metric to use in determining the best neighborhood in Pittsburgh, our group first found a dataset containing air quality indexes throughout Allegheny County. From there, we considered environmental friendliness as a metric. However, as we searched for more datasets, we found some relating to affordances of parks throughout Allegheny County. We then decided to consider the affordances of outdoor recreational activities in each neighborhood as our metric. \n",
    "\n",
    "Although environmental friendliness and sustainability is an important metric, a neighborhood's appeal extends beyond environmental considerations to include the quality of life that it offers. The availability of high quality parks, trails, and open spaces greatly adds to the appeal of a neighborhood and the quality of life of those living there. So, for our project we decided to consider the affordances of outdoor recreational activities in each neighborhood.\n",
    "\n",
    "**THE METRIC**\n",
    "\n",
    "Our metric, Outdoor Recreational Affordance, represents a holistic evaluation of a neighborhood's ability to provide outdoor recreational experiences for its residents. To formulate this metric, we evaluated three primary datasets: Allegheny County Trail Locations, Allegheny County Park Features, and City of Pittsburgh Pools.\n",
    "\n",
    "The Allegheny Count Trails Locations dataset will be used to measure trail mileage, with greater mileage being defined as better. The Allegheny County Park Features dataset will be used to measure park capacity by taking the sum of capacities of each feature the park has. The City of Pittsburgh Pools dataset is used as an initial filter to narrow down the amount of parks to compare. The neighborhoods will be ranked on pool water capacity.\n",
    "\n",
    "---\n",
    "# The Best Neighborhood\n",
    "\n",
    "Talking about the best neighborhood and the data that shows this.\n",
    "\n",
    "***TODO: Give points to each neighborhood and see which neighborhood wins and talk about it here.***\n",
    "\n",
    "---"
   ]
  }
 ],
 "metadata": {
  "kernelspec": {
   "display_name": "Python 3",
   "language": "python",
   "name": "python3"
  },
  "language_info": {
   "codemirror_mode": {
    "name": "ipython",
    "version": 3
   },
   "file_extension": ".py",
   "mimetype": "text/x-python",
   "name": "python",
   "nbconvert_exporter": "python",
   "pygments_lexer": "ipython3",
   "version": "3.8.3"
  }
 },
 "nbformat": 4,
 "nbformat_minor": 4
}
