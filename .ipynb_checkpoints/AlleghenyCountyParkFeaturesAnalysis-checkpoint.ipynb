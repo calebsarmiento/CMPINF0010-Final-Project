{
 "cells": [
  {
   "cell_type": "markdown",
   "metadata": {},
   "source": [
    "# Allegheny County Park Features Analysis\n",
    "---\n",
    "## Getting the data\n",
    "First, the data is imported, read, and previewed. Unnecessary data will be stripped and any NaN values will be disregarded later on."
   ]
  },
  {
   "cell_type": "code",
   "execution_count": 3,
   "metadata": {},
   "outputs": [
    {
     "data": {
      "text/html": [
       "<div>\n",
       "<style scoped>\n",
       "    .dataframe tbody tr th:only-of-type {\n",
       "        vertical-align: middle;\n",
       "    }\n",
       "\n",
       "    .dataframe tbody tr th {\n",
       "        vertical-align: top;\n",
       "    }\n",
       "\n",
       "    .dataframe thead th {\n",
       "        text-align: right;\n",
       "    }\n",
       "</style>\n",
       "<table border=\"1\" class=\"dataframe\">\n",
       "  <thead>\n",
       "    <tr style=\"text-align: right;\">\n",
       "      <th></th>\n",
       "      <th>center</th>\n",
       "      <th>feature_name</th>\n",
       "      <th>capacity</th>\n",
       "    </tr>\n",
       "  </thead>\n",
       "  <tbody>\n",
       "    <tr>\n",
       "      <th>32</th>\n",
       "      <td>Harrison Hills Park</td>\n",
       "      <td>Laurel</td>\n",
       "      <td>100.0</td>\n",
       "    </tr>\n",
       "    <tr>\n",
       "      <th>482</th>\n",
       "      <td>North Park</td>\n",
       "      <td>Platform Tennis Courts</td>\n",
       "      <td>NaN</td>\n",
       "    </tr>\n",
       "    <tr>\n",
       "      <th>561</th>\n",
       "      <td>North Park</td>\n",
       "      <td>Allegheny County Police Academy</td>\n",
       "      <td>NaN</td>\n",
       "    </tr>\n",
       "    <tr>\n",
       "      <th>329</th>\n",
       "      <td>White Oak Park</td>\n",
       "      <td>Off-Leash Dog Park</td>\n",
       "      <td>NaN</td>\n",
       "    </tr>\n",
       "    <tr>\n",
       "      <th>41</th>\n",
       "      <td>North Park</td>\n",
       "      <td>Old Fire House</td>\n",
       "      <td>60.0</td>\n",
       "    </tr>\n",
       "    <tr>\n",
       "      <th>236</th>\n",
       "      <td>South Park</td>\n",
       "      <td>Lebanon</td>\n",
       "      <td>40.0</td>\n",
       "    </tr>\n",
       "    <tr>\n",
       "      <th>326</th>\n",
       "      <td>Boyce Park</td>\n",
       "      <td>Skate Park</td>\n",
       "      <td>NaN</td>\n",
       "    </tr>\n",
       "    <tr>\n",
       "      <th>537</th>\n",
       "      <td>South Park</td>\n",
       "      <td>Playground</td>\n",
       "      <td>NaN</td>\n",
       "    </tr>\n",
       "    <tr>\n",
       "      <th>524</th>\n",
       "      <td>South Park</td>\n",
       "      <td>Stage</td>\n",
       "      <td>NaN</td>\n",
       "    </tr>\n",
       "    <tr>\n",
       "      <th>555</th>\n",
       "      <td>Settler's Cabin Park</td>\n",
       "      <td>Basketball Courts</td>\n",
       "      <td>NaN</td>\n",
       "    </tr>\n",
       "  </tbody>\n",
       "</table>\n",
       "</div>"
      ],
      "text/plain": [
       "                   center                     feature_name  capacity\n",
       "32    Harrison Hills Park                           Laurel     100.0\n",
       "482            North Park           Platform Tennis Courts       NaN\n",
       "561            North Park  Allegheny County Police Academy       NaN\n",
       "329        White Oak Park               Off-Leash Dog Park       NaN\n",
       "41             North Park                   Old Fire House      60.0\n",
       "236            South Park                          Lebanon      40.0\n",
       "326            Boyce Park                       Skate Park       NaN\n",
       "537            South Park                       Playground       NaN\n",
       "524            South Park                            Stage       NaN\n",
       "555  Settler's Cabin Park                Basketball Courts       NaN"
      ]
     },
     "execution_count": 3,
     "metadata": {},
     "output_type": "execute_result"
    }
   ],
   "source": [
    "import pandas as pd\n",
    "import matplotlib.pyplot as plt\n",
    "\n",
    "df = pd.read_csv(\"park_features.csv\")\n",
    "df = df[[\"center\", \"feature_name\", \"capacity\"]]\n",
    "\n",
    "df.sample(10)"
   ]
  },
  {
   "cell_type": "markdown",
   "metadata": {},
   "source": [
    "Now, we have a dataframe of name 'df' that contains only the park name, feature name, and feature capacity. This stripped down the data from the original imported csv file to only what is necessary in analyzing the capacities for each park."
   ]
  },
  {
   "cell_type": "markdown",
   "metadata": {},
   "source": [
    "---\n",
    "## Analyzing the data\n",
    "Next, an empty string will be made to be filled with all unique parks."
   ]
  },
  {
   "cell_type": "code",
   "execution_count": 7,
   "metadata": {},
   "outputs": [],
   "source": [
    "all_parks = []\n",
    "all_parks = df.center.unique()"
   ]
  },
  {
   "cell_type": "markdown",
   "metadata": {},
   "source": [
    "Next, an empty dictionary will be made. This dictionary will contain each park name as a key with their value storing the total capacity of the park. The total capacity of any park is determined by adding up the individual capacities of each park feature that is listed in the dataframe."
   ]
  },
  {
   "cell_type": "code",
   "execution_count": 3,
   "metadata": {},
   "outputs": [],
   "source": [
    "park_capacities = {}\n",
    "\n",
    "# There must be a better way to do this\n",
    "for park in all_parks:\n",
    "    for row in range(len(df)):\n",
    "        capacity = df.iloc[row,2]\n",
    "        if df.iloc[row,0] == park and capacity == float(capacity):\n",
    "            if park in park_capacities:\n",
    "                park_capacities[park] += capacity\n",
    "            else:\n",
    "                park_capacities[park] = capacity"
   ]
  },
  {
   "cell_type": "markdown",
   "metadata": {},
   "source": [
    "---\n",
    "## Looking at the results\n",
    "The dictionary can be printed out and the park with the highest capacity can be identified."
   ]
  },
  {
   "cell_type": "code",
   "execution_count": 4,
   "metadata": {},
   "outputs": [
    {
     "name": "stdout",
     "output_type": "stream",
     "text": [
      "Round Hill Park                580.0\n",
      "Deer Lakes Park                585.0\n",
      "White Oak Park                 1111.0\n",
      "Harrison Hills Park            1130.0\n",
      "Settler's Cabin Park           1140.0\n",
      "Boyce Park                     1515.0\n",
      "South Park                     4757.0\n",
      "North Park                     6577.0\n",
      "Hartwood Acres Park            10500.0\n"
     ]
    }
   ],
   "source": [
    "sorted_capacities = sorted(park_capacities.items(), key=lambda x:x[1])\n",
    "park_capacities = dict(sorted_capacities)\n",
    "for key in park_capacities:\n",
    "    print(\"{0:30} {1}\".format(key, park_capacities[key]))"
   ]
  },
  {
   "cell_type": "markdown",
   "metadata": {},
   "source": [
    "It's kind of hard to visualize the data in this format, so it will be plotted to get a better idea for how each park compares in capacity."
   ]
  },
  {
   "cell_type": "code",
   "execution_count": 5,
   "metadata": {},
   "outputs": [
    {
     "data": {
      "image/png": "[encoded data removed]",
      "text/plain": [
       "<Figure size 720x432 with 1 Axes>"
      ]
     },
     "metadata": {
      "needs_background": "light"
     },
     "output_type": "display_data"
    }
   ],
   "source": [
    "capacity = pd.DataFrame.from_dict(park_capacities, orient='index', columns=['Capacity']).sort_values(by='Capacity')\n",
    "\n",
    "capacity.plot(kind='bar', figsize =(10,6), color='g')\n",
    "plt.title('Park Capacities')\n",
    "plt.xticks(rotation=45, ha='right')\n",
    "plt.show()"
   ]
  },
  {
   "cell_type": "markdown",
   "metadata": {},
   "source": [
    "Looking at this bar graph, it is clear that Hartwood Acres Park has the highest capacity. Next, a way to score each park by their capacity is needed in order to utilize this as a sub-metric. This is done by giving a percentage for the park's capacity out of the park with the highest capacity, so Hartwood Acres Park would get a score of 100, being the best park in the submetric of capacity."
   ]
  },
  {
   "cell_type": "code",
   "execution_count": 6,
   "metadata": {},
   "outputs": [
    {
     "name": "stdout",
     "output_type": "stream",
     "text": [
      "Park Scores\n",
      "\n",
      "Round Hill Park                5.5\n",
      "Deer Lakes Park                5.6\n",
      "White Oak Park                 10.6\n",
      "Harrison Hills Park            10.8\n",
      "Settler's Cabin Park           10.9\n",
      "Boyce Park                     14.4\n",
      "South Park                     45.3\n",
      "North Park                     62.6\n",
      "Hartwood Acres Park            100.0\n"
     ]
    }
   ],
   "source": [
    "scores = {}\n",
    "for park in park_capacities:\n",
    "    scores[park] = round(((park_capacities[park]*100)/10500.0), 1)\n",
    "\n",
    "print(\"Park Scores\\n\")\n",
    "for i in scores:\n",
    "    print(\"{0:30} {1}\".format(i, scores[i]))"
   ]
  },
  {
   "cell_type": "markdown",
   "metadata": {},
   "source": [
    "---\n",
    "## Conclusion\n",
    "\n",
    "Out of all the parks, Hartwood Acres Park has the highest capacity by far. A possible error with this approach is that the dataset could be biased to one park by the other parks' features being not as fully assessed, or by other parks having missing/undocumented features. This submetric will still be used, as it assesses the parks' affordance to outdoor activities. Each park is now scored with points for this, and the points for each park will be used in the final judging of the best neigborhood in Pittsburgh. This will be done by adding all the points of every park within a **24 minute** drive of each neighborhood and seeing which neighborhood has the most points in the end."
   ]
  }
 ],
 "metadata": {
  "kernelspec": {
   "display_name": "Python 3",
   "language": "python",
   "name": "python3"
  },
  "language_info": {
   "codemirror_mode": {
    "name": "ipython",
    "version": 3
   },
   "file_extension": ".py",
   "mimetype": "text/x-python",
   "name": "python",
   "nbconvert_exporter": "python",
   "pygments_lexer": "ipython3",
   "version": "3.8.3"
  }
 },
 "nbformat": 4,
 "nbformat_minor": 4
}
