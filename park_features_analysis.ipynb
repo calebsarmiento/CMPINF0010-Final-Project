{
 "cells": [
  {
   "cell_type": "markdown",
   "metadata": {},
   "source": [
    "# Measuring Park Capacity"
   ]
  },
  {
   "cell_type": "markdown",
   "metadata": {},
   "source": [
    "---\n",
    "### Getting the data\n",
    "First, the data is imported, read, and previewed. Unnecessary data will be stripped and any NaN values will be disregarded later on."
   ]
  },
  {
   "cell_type": "code",
   "execution_count": 6,
   "metadata": {},
   "outputs": [
    {
     "data": {
      "text/html": [
       "<div>\n",
       "<style scoped>\n",
       "    .dataframe tbody tr th:only-of-type {\n",
       "        vertical-align: middle;\n",
       "    }\n",
       "\n",
       "    .dataframe tbody tr th {\n",
       "        vertical-align: top;\n",
       "    }\n",
       "\n",
       "    .dataframe thead th {\n",
       "        text-align: right;\n",
       "    }\n",
       "</style>\n",
       "<table border=\"1\" class=\"dataframe\">\n",
       "  <thead>\n",
       "    <tr style=\"text-align: right;\">\n",
       "      <th></th>\n",
       "      <th>center</th>\n",
       "      <th>feature_name</th>\n",
       "      <th>capacity</th>\n",
       "    </tr>\n",
       "  </thead>\n",
       "  <tbody>\n",
       "    <tr>\n",
       "      <th>67</th>\n",
       "      <td>North Park</td>\n",
       "      <td>Ambridge</td>\n",
       "      <td>40.0</td>\n",
       "    </tr>\n",
       "    <tr>\n",
       "      <th>242</th>\n",
       "      <td>South Park</td>\n",
       "      <td>Monroe</td>\n",
       "      <td>40.0</td>\n",
       "    </tr>\n",
       "    <tr>\n",
       "      <th>18</th>\n",
       "      <td>Boyce Park</td>\n",
       "      <td>Pack</td>\n",
       "      <td>50.0</td>\n",
       "    </tr>\n",
       "    <tr>\n",
       "      <th>42</th>\n",
       "      <td>North Park</td>\n",
       "      <td>Parish Hill</td>\n",
       "      <td>150.0</td>\n",
       "    </tr>\n",
       "    <tr>\n",
       "      <th>8</th>\n",
       "      <td>Boyce Park</td>\n",
       "      <td>Soccer Pavilion</td>\n",
       "      <td>50.0</td>\n",
       "    </tr>\n",
       "    <tr>\n",
       "      <th>504</th>\n",
       "      <td>Deer Lakes Park</td>\n",
       "      <td>Workout Station</td>\n",
       "      <td>NaN</td>\n",
       "    </tr>\n",
       "    <tr>\n",
       "      <th>184</th>\n",
       "      <td>South Park</td>\n",
       "      <td>Fairgrounds Building 3</td>\n",
       "      <td>70.0</td>\n",
       "    </tr>\n",
       "    <tr>\n",
       "      <th>345</th>\n",
       "      <td>North Park</td>\n",
       "      <td>Nature Center Barn</td>\n",
       "      <td>NaN</td>\n",
       "    </tr>\n",
       "    <tr>\n",
       "      <th>503</th>\n",
       "      <td>Deer Lakes Park</td>\n",
       "      <td>Workout Station</td>\n",
       "      <td>NaN</td>\n",
       "    </tr>\n",
       "    <tr>\n",
       "      <th>193</th>\n",
       "      <td>South Park</td>\n",
       "      <td>100 Acre Field</td>\n",
       "      <td>40.0</td>\n",
       "    </tr>\n",
       "  </tbody>\n",
       "</table>\n",
       "</div>"
      ],
      "text/plain": [
       "              center            feature_name  capacity\n",
       "67        North Park                Ambridge      40.0\n",
       "242       South Park                  Monroe      40.0\n",
       "18        Boyce Park                    Pack      50.0\n",
       "42        North Park             Parish Hill     150.0\n",
       "8         Boyce Park         Soccer Pavilion      50.0\n",
       "504  Deer Lakes Park         Workout Station       NaN\n",
       "184       South Park  Fairgrounds Building 3      70.0\n",
       "345       North Park      Nature Center Barn       NaN\n",
       "503  Deer Lakes Park         Workout Station       NaN\n",
       "193       South Park          100 Acre Field      40.0"
      ]
     },
     "execution_count": 6,
     "metadata": {},
     "output_type": "execute_result"
    }
   ],
   "source": [
    "import pandas as pd\n",
    "\n",
    "df = pd.read_csv(\"park_features.csv\")\n",
    "df = df[[\"center\", \"feature_name\", \"capacity\"]]\n",
    "\n",
    "df.sample(10)"
   ]
  },
  {
   "cell_type": "markdown",
   "metadata": {},
   "source": [
    "Now, we have a dataframe of name 'df' that contains only the park name, feature name, and feature capacity. This stripped down the data from the original imported csv file to only what is necessary in analyzing the capacities for each park."
   ]
  },
  {
   "cell_type": "markdown",
   "metadata": {},
   "source": [
    "---\n",
    "### Analyzing the data\n",
    "Next, an empty string will be made to be filled with all unique parks. A for loop is used to go through each row of the dataframe and grab each park name that isn't already in the string."
   ]
  },
  {
   "cell_type": "code",
   "execution_count": 2,
   "metadata": {},
   "outputs": [],
   "source": [
    "all_parks = [] # Empty string to hold all unique parks.\n",
    "\n",
    "for row in range(len(df)): # For loop that appends park names if they are not in the list already.\n",
    "    if df.iloc[row,0] not in all_parks:\n",
    "        all_parks.append(df.iloc[row,0])"
   ]
  },
  {
   "cell_type": "markdown",
   "metadata": {},
   "source": [
    "Next, an empty dictionary will be made. This dictionary will contain each park name as a key with their value storing the total capacity of the park. The total capacity of any park is determined by adding up the individual capacities of each park feature that is listed in the dataframe."
   ]
  },
  {
   "cell_type": "code",
   "execution_count": 3,
   "metadata": {},
   "outputs": [],
   "source": [
    "park_capacities = {} # Creating dictionary to hold all parks, where the value is the capacity of the park.\n",
    "\n",
    "for park in all_parks: # Going through each park and adding the capacity of each unique feature.\n",
    "    for row in range(len(df)):\n",
    "        capacity = df.iloc[row,2]\n",
    "        if df.iloc[row,0] == park and capacity == float(capacity): # Skipping park feature capacities that are not in the float data type. This excludes all NaN.\n",
    "            if park in park_capacities: # Adding the key and value to the dictionary.\n",
    "                park_capacities[park] += capacity\n",
    "            else:\n",
    "                park_capacities[park] = capacity"
   ]
  },
  {
   "cell_type": "markdown",
   "metadata": {},
   "source": [
    "---\n",
    "### Looking at the results\n",
    "The dictionary can be printed out and the park with the highest capacity can be identified."
   ]
  },
  {
   "cell_type": "code",
   "execution_count": 4,
   "metadata": {},
   "outputs": [
    {
     "name": "stdout",
     "output_type": "stream",
     "text": [
      "Boyce Park\n",
      "1515.0\n",
      "Hartwood Acres Park\n",
      "10500.0\n",
      "Harrison Hills Park\n",
      "1130.0\n",
      "North Park\n",
      "6577.0\n",
      "Round Hill Park\n",
      "580.0\n",
      "Settler's Cabin Park\n",
      "1140.0\n",
      "South Park\n",
      "4757.0\n",
      "White Oak Park\n",
      "1111.0\n",
      "Deer Lakes Park\n",
      "585.0\n",
      "\n",
      "Hartwood Acres Park has the highest capacity from features provided on park grounds\n",
      "\n"
     ]
    }
   ],
   "source": [
    "for key in park_capacities: # Printing out each park and its capacity value.\n",
    "    print(key + \"\\n\" + str(park_capacities[key]))\n",
    "    \n",
    "print(\"\\n\" + max(park_capacities, key=park_capacities.get) + \" has the highest capacity from features provided on park grounds\\n\")"
   ]
  },
  {
   "cell_type": "markdown",
   "metadata": {},
   "source": [
    "It's kind of hard to visualize the data in this format, so it will be plotted to get a better idea for how each park compares in capacity."
   ]
  },
  {
   "cell_type": "code",
   "execution_count": 5,
   "metadata": {},
   "outputs": [
    {
     "data": {
      "text/plain": [
       "<matplotlib.axes._subplots.AxesSubplot at 0x7efdfe3f3100>"
      ]
     },
     "execution_count": 5,
     "metadata": {},
     "output_type": "execute_result"
    },
    {
     "data": {
      "image/png": "[encoded data removed]",
      "text/plain": [
       "<Figure size 432x288 with 1 Axes>"
      ]
     },
     "metadata": {
      "needs_background": "light"
     },
     "output_type": "display_data"
    }
   ],
   "source": [
    "capacity = pd.DataFrame.from_dict(park_capacities, orient='index', columns=['Capacity']).sort_values(by='Capacity')\n",
    "# Making a new dataframe with only park names and capacities.\n",
    "\n",
    "capacity.plot(kind='bar', title='Park Capacities',rot=-90)"
   ]
  },
  {
   "cell_type": "markdown",
   "metadata": {},
   "source": [
    "Looking at this bar graph, it is clear that Hartwood Acres Park has the highest capacity.\n",
    "\n",
    "Next, a way to score each park by their capacity is needed in order to utilize this as a sub-metric. This will be done by giving each park a rating out of 10, calculated by..."
   ]
  },
  {
   "cell_type": "code",
   "execution_count": 7,
   "metadata": {},
   "outputs": [
    {
     "name": "stdout",
     "output_type": "stream",
     "text": [
      "[5.5, 5.6, 10.6, 10.8, 10.9, 14.4, 45.3, 62.6, 100.0]\n"
     ]
    }
   ],
   "source": [
    "scores = {}\n",
    "\n",
    "for park in park_capacities:\n",
    "    scores[park] = round(((park_capacities[park]*100)/10500.0), 1)\n",
    "\n",
    "rankings = []\n",
    "    \n",
    "for entry in scores:\n",
    "    rankings.append(scores[entry])\n",
    "\n",
    "rankings.sort()\n",
    "print(rankings)"
   ]
  },
  {
   "cell_type": "code",
   "execution_count": null,
   "metadata": {},
   "outputs": [],
   "source": [
    "Find a dataset to narrow down the amount of neighborhoods to compare -> then add points from neighborhoods to "
   ]
  }
 ],
 "metadata": {
  "kernelspec": {
   "display_name": "Python 3",
   "language": "python",
   "name": "python3"
  },
  "language_info": {
   "codemirror_mode": {
    "name": "ipython",
    "version": 3
   },
   "file_extension": ".py",
   "mimetype": "text/x-python",
   "name": "python",
   "nbconvert_exporter": "python",
   "pygments_lexer": "ipython3",
   "version": "3.8.3"
  }
 },
 "nbformat": 4,
 "nbformat_minor": 4
}
